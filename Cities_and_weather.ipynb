{
 "cells": [
  {
   "cell_type": "markdown",
   "metadata": {},
   "source": [
    "## Deliverable 📬\n",
    "\n",
    "To complete this project, your team should deliver:\n",
    "\n",
    "* A `.csv` file in an S3 bucket containing enriched information about weather and hotels for each french city\n",
    "\n",
    "* A SQL Database where we should be able to get the same cleaned data from S3 \n",
    "\n",
    "* Two maps where you should have a Top-5 destinations and a Top-20 hotels in the area. You can use plotly or any other library to do so. It should look something like this: \n",
    "\n",
    "![Map](https://full-stack-assets.s3.eu-west-3.amazonaws.com/images/Kayak_best_destination_project.png)"
   ]
  },
  {
   "cell_type": "markdown",
   "metadata": {},
   "source": [
    "# 1) Création d'un DataFrame des 35 villes avec coordonnées géographiques"
   ]
  },
  {
   "cell_type": "code",
   "execution_count": 1,
   "metadata": {},
   "outputs": [],
   "source": [
    "from bs4 import BeautifulSoup\n",
    "import requests\n",
    "import pandas as pd\n",
    "import json\n",
    "from datetime import datetime"
   ]
  },
  {
   "cell_type": "code",
   "execution_count": 2,
   "metadata": {},
   "outputs": [],
   "source": [
    "cities =[\"Mont-Saint-Michel\",\n",
    "\"St Malo\",\n",
    "\"Bayeux\",\n",
    "\"Le Havre\",\n",
    "\"Rouen\",\n",
    "\"Paris\",\n",
    "\"Amiens\",\n",
    "\"Lille\",\n",
    "\"Strasbourg\",\n",
    "\"Chateau du Haut Koenigsbourg\",\n",
    "\"Colmar\",\n",
    "\"Eguisheim\",\n",
    "\"Besancon\",\n",
    "\"Dijon\",\n",
    "\"Annecy\",\n",
    "\"Grenoble\",\n",
    "\"Lyon\",\n",
    "\"Gorges du Verdon\",\n",
    "\"Bormes les Mimosas\",\n",
    "\"Cassis\",\n",
    "\"Marseille\",\n",
    "\"Aix en Provence\",\n",
    "\"Avignon\",\n",
    "\"Uzes\",\n",
    "\"Nimes\",\n",
    "\"Aigues Mortes\",\n",
    "\"Saintes Maries de la mer\",\n",
    "\"Collioure\",\n",
    "\"Carcassonne\",\n",
    "\"Ariege\",\n",
    "\"Toulouse\",\n",
    "\"Montauban\",\n",
    "\"Biarritz\",\n",
    "\"Bayonne\",\n",
    "\"La Rochelle\"]"
   ]
  },
  {
   "cell_type": "markdown",
   "metadata": {},
   "source": [
    "### Test sur une ville "
   ]
  },
  {
   "cell_type": "code",
   "execution_count": 3,
   "metadata": {},
   "outputs": [
    {
     "data": {
      "text/plain": [
       "{'place_id': 151486647,\n",
       " 'licence': 'Data © OpenStreetMap contributors, ODbL 1.0. https://osm.org/copyright',\n",
       " 'osm_type': 'way',\n",
       " 'osm_id': 211285890,\n",
       " 'boundingbox': ['48.6349172', '48.637031', '-1.5133292', '-1.5094796'],\n",
       " 'lat': '48.6359541',\n",
       " 'lon': '-1.511459954959514',\n",
       " 'display_name': 'Mont Saint-Michel, Le Mont-Saint-Michel, Avranches, Manche, Normandie, France métropolitaine, 50170, France',\n",
       " 'class': 'place',\n",
       " 'type': 'islet',\n",
       " 'importance': 0.755436556781574,\n",
       " 'address': {'place': 'Mont Saint-Michel',\n",
       "  'city': 'Le Mont-Saint-Michel',\n",
       "  'municipality': 'Avranches',\n",
       "  'county': 'Manche',\n",
       "  'state': 'Normandie',\n",
       "  'region': 'France métropolitaine',\n",
       "  'postcode': '50170',\n",
       "  'country': 'France',\n",
       "  'country_code': 'fr'}}"
      ]
     },
     "execution_count": 3,
     "metadata": {},
     "output_type": "execute_result"
    }
   ],
   "source": [
    "r=requests.get('https://nominatim.openstreetmap.org/?addressdetails=1&q=Mont-Saint-Michel&countrycodes=france&format=json')\n",
    "r.json()[0]"
   ]
  },
  {
   "cell_type": "code",
   "execution_count": 4,
   "metadata": {},
   "outputs": [
    {
     "name": "stdout",
     "output_type": "stream",
     "text": [
      "48.6359541\n",
      "-1.511459954959514\n"
     ]
    }
   ],
   "source": [
    "print(r.json()[0]['lat'])\n",
    "print(r.json()[0]['lon'])"
   ]
  },
  {
   "cell_type": "markdown",
   "metadata": {},
   "source": [
    "### Récupération des coordonnées pour toutes les villes"
   ]
  },
  {
   "cell_type": "code",
   "execution_count": 5,
   "metadata": {},
   "outputs": [],
   "source": [
    "columns = ['id', 'name', 'latitude', 'longitude']\n",
    "data = []\n",
    "\n",
    "for i, j in enumerate(cities):\n",
    "    params = {\"format\": 'json', \"limit\": 1}\n",
    "    r=requests.get('https://nominatim.openstreetmap.org/?addressdetails=1&q=' +str(j) +'&countrycodes=france&format=json&limit=1', params=params)\n",
    "    liste =[i, j, r.json()[0]['lat'], r.json()[0]['lon']]\n",
    "    data.append(liste)\n",
    "    \n",
    "df_cities = pd.DataFrame(data=data, columns=columns)"
   ]
  },
  {
   "cell_type": "code",
   "execution_count": 6,
   "metadata": {},
   "outputs": [
    {
     "data": {
      "text/html": [
       "<div>\n",
       "<style scoped>\n",
       "    .dataframe tbody tr th:only-of-type {\n",
       "        vertical-align: middle;\n",
       "    }\n",
       "\n",
       "    .dataframe tbody tr th {\n",
       "        vertical-align: top;\n",
       "    }\n",
       "\n",
       "    .dataframe thead th {\n",
       "        text-align: right;\n",
       "    }\n",
       "</style>\n",
       "<table border=\"1\" class=\"dataframe\">\n",
       "  <thead>\n",
       "    <tr style=\"text-align: right;\">\n",
       "      <th></th>\n",
       "      <th>id</th>\n",
       "      <th>name</th>\n",
       "      <th>latitude</th>\n",
       "      <th>longitude</th>\n",
       "    </tr>\n",
       "  </thead>\n",
       "  <tbody>\n",
       "    <tr>\n",
       "      <th>0</th>\n",
       "      <td>0</td>\n",
       "      <td>Mont-Saint-Michel</td>\n",
       "      <td>48.6359541</td>\n",
       "      <td>-1.511459954959514</td>\n",
       "    </tr>\n",
       "    <tr>\n",
       "      <th>1</th>\n",
       "      <td>1</td>\n",
       "      <td>St Malo</td>\n",
       "      <td>48.649518</td>\n",
       "      <td>-2.0260409</td>\n",
       "    </tr>\n",
       "    <tr>\n",
       "      <th>2</th>\n",
       "      <td>2</td>\n",
       "      <td>Bayeux</td>\n",
       "      <td>49.2764624</td>\n",
       "      <td>-0.7024738</td>\n",
       "    </tr>\n",
       "    <tr>\n",
       "      <th>3</th>\n",
       "      <td>3</td>\n",
       "      <td>Le Havre</td>\n",
       "      <td>49.4938975</td>\n",
       "      <td>0.1079732</td>\n",
       "    </tr>\n",
       "    <tr>\n",
       "      <th>4</th>\n",
       "      <td>4</td>\n",
       "      <td>Rouen</td>\n",
       "      <td>49.4404591</td>\n",
       "      <td>1.0939658</td>\n",
       "    </tr>\n",
       "  </tbody>\n",
       "</table>\n",
       "</div>"
      ],
      "text/plain": [
       "   id               name    latitude           longitude\n",
       "0   0  Mont-Saint-Michel  48.6359541  -1.511459954959514\n",
       "1   1            St Malo   48.649518          -2.0260409\n",
       "2   2             Bayeux  49.2764624          -0.7024738\n",
       "3   3           Le Havre  49.4938975           0.1079732\n",
       "4   4              Rouen  49.4404591           1.0939658"
      ]
     },
     "execution_count": 6,
     "metadata": {},
     "output_type": "execute_result"
    }
   ],
   "source": [
    "df_cities.head()"
   ]
  },
  {
   "cell_type": "markdown",
   "metadata": {},
   "source": [
    "Transformation de latitude et longitude en numeric"
   ]
  },
  {
   "cell_type": "code",
   "execution_count": 7,
   "metadata": {},
   "outputs": [
    {
     "data": {
      "text/plain": [
       "id            int64\n",
       "name         object\n",
       "latitude     object\n",
       "longitude    object\n",
       "dtype: object"
      ]
     },
     "execution_count": 7,
     "metadata": {},
     "output_type": "execute_result"
    }
   ],
   "source": [
    "df_cities.dtypes"
   ]
  },
  {
   "cell_type": "code",
   "execution_count": 8,
   "metadata": {},
   "outputs": [],
   "source": [
    "df_cities[[\"latitude\", \"longitude\"]] = df_cities[[\"latitude\", \"longitude\"]].apply(pd.to_numeric)"
   ]
  },
  {
   "cell_type": "code",
   "execution_count": 9,
   "metadata": {},
   "outputs": [
    {
     "data": {
      "text/plain": [
       "id             int64\n",
       "name          object\n",
       "latitude     float64\n",
       "longitude    float64\n",
       "dtype: object"
      ]
     },
     "execution_count": 9,
     "metadata": {},
     "output_type": "execute_result"
    }
   ],
   "source": [
    "df_cities.dtypes"
   ]
  },
  {
   "cell_type": "markdown",
   "metadata": {},
   "source": [
    "# 2) Création d'un DataFrame contenant pour chaque ville les données météorologiques que nous souhaitons étudier"
   ]
  },
  {
   "cell_type": "markdown",
   "metadata": {},
   "source": [
    "### Test sur une ville"
   ]
  },
  {
   "cell_type": "code",
   "execution_count": 10,
   "metadata": {},
   "outputs": [],
   "source": [
    "api_key='25143b0395a1953fbdcfd568cbd5c928'"
   ]
  },
  {
   "cell_type": "code",
   "execution_count": 11,
   "metadata": {},
   "outputs": [],
   "source": [
    "para={'lat':df_cities.loc[0,'latitude'],\n",
    "      'lon':df_cities.loc[0,'longitude'],\n",
    "      'appid':api_key,\n",
    "      'exclude': 'current,hourly,minutely',\n",
    "      'units':'metric',}\n",
    "r=requests.get('https://api.openweathermap.org/data/2.5/onecall', params=para).json()\n"
   ]
  },
  {
   "cell_type": "code",
   "execution_count": 12,
   "metadata": {},
   "outputs": [
    {
     "name": "stdout",
     "output_type": "stream",
     "text": [
      "4.27\n",
      "71\n",
      "0\n",
      "Clouds\n",
      "2021-12-21\n"
     ]
    }
   ],
   "source": [
    "print(r['daily'][0]['temp']['day'])\n",
    "print(r['daily'][0]['humidity'])\n",
    "print(r['daily'][0]['pop'])\n",
    "print(r['daily'][0]['weather'][0]['main'])\n",
    "print(datetime.utcfromtimestamp(r['daily'][0]['dt']).strftime('%Y-%m-%d'))"
   ]
  },
  {
   "cell_type": "markdown",
   "metadata": {},
   "source": [
    "### On récupère pour chaque ville les données météorologique sur les sept prochains jours"
   ]
  },
  {
   "cell_type": "code",
   "execution_count": 13,
   "metadata": {},
   "outputs": [],
   "source": [
    "liste2=[]\n",
    "dic = {\"city_id\" : [],\n",
    "       \"date\" : [],\n",
    "      \"temperature\" : [],\n",
    "      \"humidity\" : [],\n",
    "      \"precipitation_probability\" : [],\n",
    "      \"weather\" : []}\n",
    "for i in range(len(cities)):\n",
    "    para={'lat':df_cities.loc[i,'latitude'],\n",
    "          'lon':df_cities.loc[i,'longitude'],\n",
    "          'appid':api_key,\n",
    "          'exclude': 'current,hourly,minutely',\n",
    "          'units':'metric',}\n",
    "    r=requests.get('https://api.openweathermap.org/data/2.5/onecall', params=para).json()\n",
    "    for j in range(8):\n",
    "            dic[\"city_id\"].append(df_cities.loc[i, 'id'])\n",
    "            dic[\"temperature\"].append(r['daily'][j]['temp']['day'])\n",
    "            dic[\"humidity\"].append(r['daily'][j]['humidity'])\n",
    "            dic[\"precipitation_probability\"].append(r['daily'][j]['pop'])\n",
    "            dic[\"weather\"].append(r['daily'][j]['weather'][0]['main'])\n",
    "            dic[\"date\"].append(datetime.utcfromtimestamp(r['daily'][j]['dt']).strftime('%Y-%m-%d'))\n",
    "        \n",
    "df_weather=pd.DataFrame.from_dict(dic)"
   ]
  },
  {
   "cell_type": "code",
   "execution_count": 14,
   "metadata": {},
   "outputs": [
    {
     "data": {
      "text/html": [
       "<div>\n",
       "<style scoped>\n",
       "    .dataframe tbody tr th:only-of-type {\n",
       "        vertical-align: middle;\n",
       "    }\n",
       "\n",
       "    .dataframe tbody tr th {\n",
       "        vertical-align: top;\n",
       "    }\n",
       "\n",
       "    .dataframe thead th {\n",
       "        text-align: right;\n",
       "    }\n",
       "</style>\n",
       "<table border=\"1\" class=\"dataframe\">\n",
       "  <thead>\n",
       "    <tr style=\"text-align: right;\">\n",
       "      <th></th>\n",
       "      <th>city_id</th>\n",
       "      <th>date</th>\n",
       "      <th>temperature</th>\n",
       "      <th>humidity</th>\n",
       "      <th>precipitation_probability</th>\n",
       "      <th>weather</th>\n",
       "    </tr>\n",
       "  </thead>\n",
       "  <tbody>\n",
       "    <tr>\n",
       "      <th>0</th>\n",
       "      <td>0</td>\n",
       "      <td>2021-12-21</td>\n",
       "      <td>4.27</td>\n",
       "      <td>71</td>\n",
       "      <td>0.00</td>\n",
       "      <td>Clouds</td>\n",
       "    </tr>\n",
       "    <tr>\n",
       "      <th>1</th>\n",
       "      <td>0</td>\n",
       "      <td>2021-12-22</td>\n",
       "      <td>5.60</td>\n",
       "      <td>51</td>\n",
       "      <td>0.00</td>\n",
       "      <td>Clouds</td>\n",
       "    </tr>\n",
       "    <tr>\n",
       "      <th>2</th>\n",
       "      <td>0</td>\n",
       "      <td>2021-12-23</td>\n",
       "      <td>9.42</td>\n",
       "      <td>90</td>\n",
       "      <td>0.05</td>\n",
       "      <td>Clouds</td>\n",
       "    </tr>\n",
       "    <tr>\n",
       "      <th>3</th>\n",
       "      <td>0</td>\n",
       "      <td>2021-12-24</td>\n",
       "      <td>10.85</td>\n",
       "      <td>87</td>\n",
       "      <td>1.00</td>\n",
       "      <td>Rain</td>\n",
       "    </tr>\n",
       "    <tr>\n",
       "      <th>4</th>\n",
       "      <td>0</td>\n",
       "      <td>2021-12-25</td>\n",
       "      <td>11.21</td>\n",
       "      <td>82</td>\n",
       "      <td>1.00</td>\n",
       "      <td>Rain</td>\n",
       "    </tr>\n",
       "    <tr>\n",
       "      <th>5</th>\n",
       "      <td>0</td>\n",
       "      <td>2021-12-26</td>\n",
       "      <td>11.80</td>\n",
       "      <td>79</td>\n",
       "      <td>1.00</td>\n",
       "      <td>Rain</td>\n",
       "    </tr>\n",
       "    <tr>\n",
       "      <th>6</th>\n",
       "      <td>0</td>\n",
       "      <td>2021-12-27</td>\n",
       "      <td>8.00</td>\n",
       "      <td>73</td>\n",
       "      <td>1.00</td>\n",
       "      <td>Rain</td>\n",
       "    </tr>\n",
       "    <tr>\n",
       "      <th>7</th>\n",
       "      <td>0</td>\n",
       "      <td>2021-12-28</td>\n",
       "      <td>7.03</td>\n",
       "      <td>80</td>\n",
       "      <td>0.32</td>\n",
       "      <td>Rain</td>\n",
       "    </tr>\n",
       "    <tr>\n",
       "      <th>8</th>\n",
       "      <td>1</td>\n",
       "      <td>2021-12-21</td>\n",
       "      <td>3.86</td>\n",
       "      <td>75</td>\n",
       "      <td>0.00</td>\n",
       "      <td>Clouds</td>\n",
       "    </tr>\n",
       "    <tr>\n",
       "      <th>9</th>\n",
       "      <td>1</td>\n",
       "      <td>2021-12-22</td>\n",
       "      <td>5.33</td>\n",
       "      <td>55</td>\n",
       "      <td>0.00</td>\n",
       "      <td>Clouds</td>\n",
       "    </tr>\n",
       "  </tbody>\n",
       "</table>\n",
       "</div>"
      ],
      "text/plain": [
       "   city_id        date  temperature  humidity  precipitation_probability  \\\n",
       "0        0  2021-12-21         4.27        71                       0.00   \n",
       "1        0  2021-12-22         5.60        51                       0.00   \n",
       "2        0  2021-12-23         9.42        90                       0.05   \n",
       "3        0  2021-12-24        10.85        87                       1.00   \n",
       "4        0  2021-12-25        11.21        82                       1.00   \n",
       "5        0  2021-12-26        11.80        79                       1.00   \n",
       "6        0  2021-12-27         8.00        73                       1.00   \n",
       "7        0  2021-12-28         7.03        80                       0.32   \n",
       "8        1  2021-12-21         3.86        75                       0.00   \n",
       "9        1  2021-12-22         5.33        55                       0.00   \n",
       "\n",
       "  weather  \n",
       "0  Clouds  \n",
       "1  Clouds  \n",
       "2  Clouds  \n",
       "3    Rain  \n",
       "4    Rain  \n",
       "5    Rain  \n",
       "6    Rain  \n",
       "7    Rain  \n",
       "8  Clouds  \n",
       "9  Clouds  "
      ]
     },
     "execution_count": 14,
     "metadata": {},
     "output_type": "execute_result"
    }
   ],
   "source": [
    "df_weather.head(10)"
   ]
  },
  {
   "cell_type": "code",
   "execution_count": 15,
   "metadata": {},
   "outputs": [
    {
     "data": {
      "text/html": [
       "<div>\n",
       "<style scoped>\n",
       "    .dataframe tbody tr th:only-of-type {\n",
       "        vertical-align: middle;\n",
       "    }\n",
       "\n",
       "    .dataframe tbody tr th {\n",
       "        vertical-align: top;\n",
       "    }\n",
       "\n",
       "    .dataframe thead th {\n",
       "        text-align: right;\n",
       "    }\n",
       "</style>\n",
       "<table border=\"1\" class=\"dataframe\">\n",
       "  <thead>\n",
       "    <tr style=\"text-align: right;\">\n",
       "      <th></th>\n",
       "      <th>id</th>\n",
       "      <th>name</th>\n",
       "      <th>latitude</th>\n",
       "      <th>longitude</th>\n",
       "      <th>date</th>\n",
       "      <th>temperature</th>\n",
       "      <th>humidity</th>\n",
       "      <th>precipitation_probability</th>\n",
       "      <th>weather</th>\n",
       "    </tr>\n",
       "  </thead>\n",
       "  <tbody>\n",
       "    <tr>\n",
       "      <th>0</th>\n",
       "      <td>0</td>\n",
       "      <td>Mont-Saint-Michel</td>\n",
       "      <td>48.635954</td>\n",
       "      <td>-1.511460</td>\n",
       "      <td>2021-12-21</td>\n",
       "      <td>4.27</td>\n",
       "      <td>71</td>\n",
       "      <td>0.00</td>\n",
       "      <td>Clouds</td>\n",
       "    </tr>\n",
       "    <tr>\n",
       "      <th>1</th>\n",
       "      <td>0</td>\n",
       "      <td>Mont-Saint-Michel</td>\n",
       "      <td>48.635954</td>\n",
       "      <td>-1.511460</td>\n",
       "      <td>2021-12-22</td>\n",
       "      <td>5.60</td>\n",
       "      <td>51</td>\n",
       "      <td>0.00</td>\n",
       "      <td>Clouds</td>\n",
       "    </tr>\n",
       "    <tr>\n",
       "      <th>2</th>\n",
       "      <td>0</td>\n",
       "      <td>Mont-Saint-Michel</td>\n",
       "      <td>48.635954</td>\n",
       "      <td>-1.511460</td>\n",
       "      <td>2021-12-23</td>\n",
       "      <td>9.42</td>\n",
       "      <td>90</td>\n",
       "      <td>0.05</td>\n",
       "      <td>Clouds</td>\n",
       "    </tr>\n",
       "    <tr>\n",
       "      <th>3</th>\n",
       "      <td>0</td>\n",
       "      <td>Mont-Saint-Michel</td>\n",
       "      <td>48.635954</td>\n",
       "      <td>-1.511460</td>\n",
       "      <td>2021-12-24</td>\n",
       "      <td>10.85</td>\n",
       "      <td>87</td>\n",
       "      <td>1.00</td>\n",
       "      <td>Rain</td>\n",
       "    </tr>\n",
       "    <tr>\n",
       "      <th>4</th>\n",
       "      <td>0</td>\n",
       "      <td>Mont-Saint-Michel</td>\n",
       "      <td>48.635954</td>\n",
       "      <td>-1.511460</td>\n",
       "      <td>2021-12-25</td>\n",
       "      <td>11.21</td>\n",
       "      <td>82</td>\n",
       "      <td>1.00</td>\n",
       "      <td>Rain</td>\n",
       "    </tr>\n",
       "    <tr>\n",
       "      <th>5</th>\n",
       "      <td>0</td>\n",
       "      <td>Mont-Saint-Michel</td>\n",
       "      <td>48.635954</td>\n",
       "      <td>-1.511460</td>\n",
       "      <td>2021-12-26</td>\n",
       "      <td>11.80</td>\n",
       "      <td>79</td>\n",
       "      <td>1.00</td>\n",
       "      <td>Rain</td>\n",
       "    </tr>\n",
       "    <tr>\n",
       "      <th>6</th>\n",
       "      <td>0</td>\n",
       "      <td>Mont-Saint-Michel</td>\n",
       "      <td>48.635954</td>\n",
       "      <td>-1.511460</td>\n",
       "      <td>2021-12-27</td>\n",
       "      <td>8.00</td>\n",
       "      <td>73</td>\n",
       "      <td>1.00</td>\n",
       "      <td>Rain</td>\n",
       "    </tr>\n",
       "    <tr>\n",
       "      <th>7</th>\n",
       "      <td>0</td>\n",
       "      <td>Mont-Saint-Michel</td>\n",
       "      <td>48.635954</td>\n",
       "      <td>-1.511460</td>\n",
       "      <td>2021-12-28</td>\n",
       "      <td>7.03</td>\n",
       "      <td>80</td>\n",
       "      <td>0.32</td>\n",
       "      <td>Rain</td>\n",
       "    </tr>\n",
       "    <tr>\n",
       "      <th>8</th>\n",
       "      <td>1</td>\n",
       "      <td>St Malo</td>\n",
       "      <td>48.649518</td>\n",
       "      <td>-2.026041</td>\n",
       "      <td>2021-12-21</td>\n",
       "      <td>3.86</td>\n",
       "      <td>75</td>\n",
       "      <td>0.00</td>\n",
       "      <td>Clouds</td>\n",
       "    </tr>\n",
       "    <tr>\n",
       "      <th>9</th>\n",
       "      <td>1</td>\n",
       "      <td>St Malo</td>\n",
       "      <td>48.649518</td>\n",
       "      <td>-2.026041</td>\n",
       "      <td>2021-12-22</td>\n",
       "      <td>5.33</td>\n",
       "      <td>55</td>\n",
       "      <td>0.00</td>\n",
       "      <td>Clouds</td>\n",
       "    </tr>\n",
       "  </tbody>\n",
       "</table>\n",
       "</div>"
      ],
      "text/plain": [
       "   id               name   latitude  longitude        date  temperature  \\\n",
       "0   0  Mont-Saint-Michel  48.635954  -1.511460  2021-12-21         4.27   \n",
       "1   0  Mont-Saint-Michel  48.635954  -1.511460  2021-12-22         5.60   \n",
       "2   0  Mont-Saint-Michel  48.635954  -1.511460  2021-12-23         9.42   \n",
       "3   0  Mont-Saint-Michel  48.635954  -1.511460  2021-12-24        10.85   \n",
       "4   0  Mont-Saint-Michel  48.635954  -1.511460  2021-12-25        11.21   \n",
       "5   0  Mont-Saint-Michel  48.635954  -1.511460  2021-12-26        11.80   \n",
       "6   0  Mont-Saint-Michel  48.635954  -1.511460  2021-12-27         8.00   \n",
       "7   0  Mont-Saint-Michel  48.635954  -1.511460  2021-12-28         7.03   \n",
       "8   1            St Malo  48.649518  -2.026041  2021-12-21         3.86   \n",
       "9   1            St Malo  48.649518  -2.026041  2021-12-22         5.33   \n",
       "\n",
       "   humidity  precipitation_probability weather  \n",
       "0        71                       0.00  Clouds  \n",
       "1        51                       0.00  Clouds  \n",
       "2        90                       0.05  Clouds  \n",
       "3        87                       1.00    Rain  \n",
       "4        82                       1.00    Rain  \n",
       "5        79                       1.00    Rain  \n",
       "6        73                       1.00    Rain  \n",
       "7        80                       0.32    Rain  \n",
       "8        75                       0.00  Clouds  \n",
       "9        55                       0.00  Clouds  "
      ]
     },
     "execution_count": 15,
     "metadata": {},
     "output_type": "execute_result"
    }
   ],
   "source": [
    "#Jointure entre nos deux DataFrame\n",
    "df_cities_weather = df_cities.merge(df_weather, right_on ='city_id', left_on='id').drop('city_id', axis=1)\n",
    "df_cities_weather.head(10)"
   ]
  },
  {
   "cell_type": "markdown",
   "metadata": {},
   "source": [
    "Enregistrement du DataFrame en format csv"
   ]
  },
  {
   "cell_type": "code",
   "execution_count": 16,
   "metadata": {},
   "outputs": [],
   "source": [
    "df_cities_weather.to_csv('cities_weather.csv', index=False)"
   ]
  }
 ],
 "metadata": {
  "kernelspec": {
   "display_name": "Python 3",
   "language": "python",
   "name": "python3"
  },
  "language_info": {
   "codemirror_mode": {
    "name": "ipython",
    "version": 3
   },
   "file_extension": ".py",
   "mimetype": "text/x-python",
   "name": "python",
   "nbconvert_exporter": "python",
   "pygments_lexer": "ipython3",
   "version": "3.8.6"
  }
 },
 "nbformat": 4,
 "nbformat_minor": 4
}
